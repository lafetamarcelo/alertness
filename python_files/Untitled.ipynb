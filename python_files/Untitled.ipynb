{
 "cells": [
  {
   "cell_type": "code",
   "execution_count": 4,
   "metadata": {},
   "outputs": [],
   "source": [
    "import numpy as np\n",
    "import pandas as pd\n",
    "import matplotlib.pyplot as plt\n",
    "\n",
    "from random import *\n",
    "from math import pi, cos, exp, floor\n",
    "from scipy.signal import StateSpace, impulse2, lsim2"
   ]
  },
  {
   "cell_type": "code",
   "execution_count": null,
   "metadata": {},
   "outputs": [],
   "source": [
    "var = np.array([i*20 for i in range(10)])\n",
    "j2 = [i for i in var if i >= 60]\n",
    "j2"
   ]
  },
  {
   "cell_type": "code",
   "execution_count": 5,
   "metadata": {},
   "outputs": [],
   "source": [
    "class gene:\n",
    "    def __init__(self,size_):\n",
    "        for i in range(size_):\n",
    "            sVar = 'cell' + str(i)\n",
    "            self.__dict__[sVar] = pd.DataFrame()\n",
    "#G = gene(5)\n",
    "#G.__dict__"
   ]
  },
  {
   "cell_type": "code",
   "execution_count": 6,
   "metadata": {},
   "outputs": [],
   "source": [
    "class MOLIwhiteBox:\n",
    "    def __init__(self,method):\n",
    "        self.C = np.array([0, 0, 0, 1])\n",
    "        self.A = np.zeros([4,4])\n",
    "        if method is None:\n",
    "            method = 'trivial'\n",
    "        self.filter = method\n",
    "        \n",
    "    def describe(self):\n",
    "        print('This is a MOLI white Box alertness model')\n",
    "    def structure(self):\n",
    "        if self.filter == 'trivial':\n",
    "            w = pi/12\n",
    "            tau = 28.12\n",
    "            self.A[1,3] = -w**2\n",
    "            self.A[2,3] = -w**2/tau\n",
    "            self.A[3,3] = -1/tau\n",
    "    \n",
    "    def fit(self,timeSamp,u,y):\n",
    "        A_ = np.transpose(self.A)\n",
    "        C_ = np.transpose(self.C)\n",
    "        I_ = np.identity(4)\n",
    "        sFilt = StateSpace(A_,C_,I_,[])\n",
    "        regres = np.array([])\n",
    "        \n",
    "        for i in range(u.shape[1]):\n",
    "            impT, impResp = impulse2(sFilt, 0, timeSamp.iloc[i,:])\n",
    "            outT, outResp = lsim2(sFilt, u.iloc[i,:], timeSamp.iloc[i,:])\n",
    "            \n",
    "            comp = np.zeros([u.shape[0],4*u.shape[1]])\n",
    "            comp[:,4*i:4*(i+1)] = impResp[:,:]\n",
    "            \n",
    "            aux = np.concatenate((outResp,comp))\n",
    "            regres = np.concatenate((regres,aux),1)\n",
    "        \n",
    "        _y = y.reshape([u.shape[0]*u.shape[1],1])\n",
    "        theta = np.linalg.tensorsolve(regres,_y)\n",
    "        \n",
    "        self.L = theta[:3]\n",
    "        for i in range(u.shape[1]):\n",
    "            init = 3*i\n",
    "            final = 3*i + 4\n",
    "            self.B[:,i] = theta[init:final]"
   ]
  },
  {
   "cell_type": "code",
   "execution_count": 22,
   "metadata": {},
   "outputs": [],
   "source": [
    "class simAlert:\n",
    "    def __init__(self,numDays):\n",
    "        self.days = numDays\n",
    "        self.time = pd.DataFrame()\n",
    "        self.levAl = pd.DataFrame()\n",
    "        self.levHom = pd.DataFrame()\n",
    "        self.omega = pi/12.0\n",
    "        self.tau = 28.33\n",
    "        self.M = 2.52\n",
    "        self.phi = -4.41\n",
    "        self.DC = 2.40\n",
    "        self.y_ = 14.3\n",
    "        self.tau_e = 2.6247\n",
    "        self.smpAl = gene(numDays)\n",
    "    \n",
    "    def generate(self,windowDecision,resolution):\n",
    "        initAl = 15.3\n",
    "        self.resolution = resolution\n",
    "        self.windows = windowDecision\n",
    "        for i in range(self.days):\n",
    "            unTime = [24*i + 24*j/self.resolution for j in range(10000)]\n",
    "            wTime = [j - 24*i for j in unTime if (j - 24*i) <= windowDecision[i]]\n",
    "            sTime = [j - 24*i - windowDecision[i] for j in unTime \n",
    "                     if (j - 24*i) >= windowDecision[i]]\n",
    "            \n",
    "            circadian = [self.M*cos(self.omega*k + self.phi) for k in unTime]\n",
    "            wHom = [(initAl - self.DC)*exp(-k/self.tau) + self.DC for k in wTime]\n",
    "            sHom = [self.y_*(1-exp(-k/self.tau_e)) + wHom[-1]*exp(-k/self.tau_e) \n",
    "                    for k in sTime]\n",
    "            Hom = np.concatenate((wHom,sHom))\n",
    "            \n",
    "            self.levHom.loc[:,i] = Hom\n",
    "            self.levAl.loc[:,i] = circadian + Hom\n",
    "            self.time.loc[:,i] = unTime\n",
    "            initAl = Hom[-1]\n",
    "    \n",
    "    def randSample(self,seed,ppH):\n",
    "        \n",
    "        size_ = floor(max(self.windows)*ppH)\n",
    "        \n",
    "        #self.sAl = np.zeros([size_,self.days])\n",
    "        #self.sT = np.zeros([size_,self.days])\n",
    "        \n",
    "        for i in range(self.days):\n",
    "            step = floor(self.resolution/(24*ppH))\n",
    "            final_ = self.windows[i]*step*ppH\n",
    "            samples = range(0,final_,step)\n",
    "            spH = floor(self.resolution/24.0)\n",
    "            cruzeArr = [k - floor(spH/4) for k in range(0,floor(spH/2),1)]\n",
    "            cruzeInc = sample(cruzeArr, len(samples))\n",
    "            if cruzeInc[0] < 0:\n",
    "                cruzeInc[0] = 0\n",
    "            if cruzeInc[-1] > 0:\n",
    "                cruzeInc[-1] = 0\n",
    "            samples_inc = np.asarray(cruzeInc) + samples\n",
    "            size_ = samples_inc.shape[0]\n",
    "            \n",
    "            data_frame = {'time': self.time.loc[samples_inc,i].values,\n",
    "                          'levAl': self.levAl.loc[samples_inc,i].values}\n",
    "            self.smpAl.__dict__['_cell_'+str(i)] = data_frame\n",
    "            \n",
    "            #self.sAl[0:size_,i] = self.levAl.loc[samples_inc,i].values\n",
    "            #self.sT[0:size_,i] = self.time.loc[samples_inc,i].values\n",
    "            self.ind = spH\n",
    "            "
   ]
  },
  {
   "cell_type": "code",
   "execution_count": 25,
   "metadata": {},
   "outputs": [
    {
     "data": {
      "text/plain": [
       "{'time': array([24.1704, 24.6384, 25.1448, 25.6104, 25.788 , 26.268 , 27.2304,\n",
       "        27.7272, 28.0464, 28.5408, 28.8264, 29.5848, 30.132 , 30.6672,\n",
       "        30.9288, 31.3968, 31.8888, 32.4024, 32.9424, 33.456 , 34.092 ,\n",
       "        34.6344, 35.1024, 35.3064, 35.9904, 36.4632, 36.8448, 37.6416,\n",
       "        37.956 , 38.3328, 38.952 , 39.456 ]),\n",
       " 'levAl': array([13.15606062, 12.68259085, 12.19316358, 11.76832489, 11.61340379,\n",
       "        11.21632943, 10.52585657, 10.22999075, 10.06297261,  9.84087024,\n",
       "         9.73308207,  9.5199056 ,  9.43097783,  9.39454959,  9.39411532,\n",
       "         9.42018789,  9.48216976,  9.58078712,  9.71673475,  9.87129423,\n",
       "        10.08827856, 10.28782066, 10.46486952, 10.54219637, 10.79593289,\n",
       "        10.96084277, 11.08411426, 11.3028652 , 11.37158916, 11.43867827,\n",
       "        11.508858  , 11.52572221])}"
      ]
     },
     "execution_count": 25,
     "metadata": {},
     "output_type": "execute_result"
    }
   ],
   "source": [
    "alertData = simAlert(2)\n",
    "alertData.generate([16,16], 10000)\n",
    "alertData.randSample(15,2)\n",
    "#print(alertData.smpAl)\n",
    "alertData.smpAl._cell_1"
   ]
  },
  {
   "cell_type": "code",
   "execution_count": null,
   "metadata": {},
   "outputs": [],
   "source": [
    "print(alertData.sT)"
   ]
  },
  {
   "cell_type": "code",
   "execution_count": null,
   "metadata": {},
   "outputs": [],
   "source": [
    "plt.plot(alertData.time,alertData.levAl)\n",
    "plt.scatter(alertData.sT,alertData.sAl)"
   ]
  }
 ],
 "metadata": {
  "kernelspec": {
   "display_name": "Python 3",
   "language": "python",
   "name": "python3"
  },
  "language_info": {
   "codemirror_mode": {
    "name": "ipython",
    "version": 3
   },
   "file_extension": ".py",
   "mimetype": "text/x-python",
   "name": "python",
   "nbconvert_exporter": "python",
   "pygments_lexer": "ipython3",
   "version": "3.7.1"
  }
 },
 "nbformat": 4,
 "nbformat_minor": 2
}
