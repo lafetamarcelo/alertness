{
 "cells": [
  {
   "cell_type": "code",
   "execution_count": 1,
   "metadata": {},
   "outputs": [],
   "source": [
    "import numpy as np\n",
    "import pandas as pd\n",
    "import matplotlib.pyplot as plt\n",
    "\n",
    "from random import *\n",
    "from math import pi, cos, exp, floor\n",
    "from scipy.signal import StateSpace, impulse2, lsim2"
   ]
  },
  {
   "cell_type": "code",
   "execution_count": null,
   "metadata": {},
   "outputs": [],
   "source": [
    "var = np.array([i*20 for i in range(10)])\n",
    "j2 = [i for i in var if i >= 60]\n",
    "j2"
   ]
  },
  {
   "cell_type": "code",
   "execution_count": 2,
   "metadata": {},
   "outputs": [],
   "source": [
    "class MOLIwhiteBox:\n",
    "    def __init__(self,method):\n",
    "        self.C = np.array([0, 0, 0, 1])\n",
    "        self.A = np.zeros([4,4])\n",
    "        if method is None:\n",
    "            method = 'trivial'\n",
    "        self.filter = method\n",
    "        \n",
    "    def describe(self):\n",
    "        print('This is a MOLI white Box alertness model')\n",
    "    def structure(self):\n",
    "        if self.filter == 'trivial':\n",
    "            w = pi/12\n",
    "            tau = 28.12\n",
    "            self.A[1,3] = -w**2\n",
    "            self.A[2,3] = -w**2/tau\n",
    "            self.A[3,3] = -1/tau\n",
    "    \n",
    "    def fit(self,timeSamp,u,y):\n",
    "        A_ = np.transpose(self.A)\n",
    "        C_ = np.transpose(self.C)\n",
    "        I_ = np.identity(4)\n",
    "        sFilt = StateSpace(A_,C_,I_,[])\n",
    "        regres = np.array([])\n",
    "        \n",
    "        for i in range(u.shape[1]):\n",
    "            impT, impResp = impulse2(sFilt, 0, timeSamp.iloc[i,:])\n",
    "            outT, outResp = lsim2(sFilt, u.iloc[i,:], timeSamp.iloc[i,:])\n",
    "            \n",
    "            comp = np.zeros([u.shape[0],4*u.shape[1]])\n",
    "            comp[:,4*i:4*(i+1)] = impResp[:,:]\n",
    "            \n",
    "            aux = np.concatenate((outResp,comp))\n",
    "            regres = np.concatenate((regres,aux),1)\n",
    "        \n",
    "        _y = y.reshape([u.shape[0]*u.shape[1],1])\n",
    "        theta = np.linalg.tensorsolve(regres,_y)\n",
    "        \n",
    "        self.L = theta[:3]\n",
    "        for i in range(u.shape[1]):\n",
    "            init = 3*i\n",
    "            final = 3*i + 4\n",
    "            self.B[:,i] = theta[init:final]"
   ]
  },
  {
   "cell_type": "code",
   "execution_count": 55,
   "metadata": {},
   "outputs": [],
   "source": [
    "class simAlert:\n",
    "    def __init__(self,numDays):\n",
    "        self.days = numDays\n",
    "        self.time = pd.DataFrame()\n",
    "        self.levAl = pd.DataFrame()\n",
    "        self.levHom = pd.DataFrame()\n",
    "        self.omega = pi/12.0\n",
    "        self.tau = 28.33\n",
    "        self.M = 2.52\n",
    "        self.phi = -4.41\n",
    "        self.DC = 2.40\n",
    "        self.y_ = 14.3\n",
    "        self.tau_e = 2.6247\n",
    "    \n",
    "    def generate(self,windowDecision,resolution):\n",
    "        initAl = 15.3\n",
    "        self.resolution = resolution\n",
    "        self.windows = windowDecision\n",
    "        for i in range(self.days):\n",
    "            unTime = [24*i + 24*j/self.resolution for j in range(10000)]\n",
    "            wTime = [j - 24*i for j in unTime if (j - 24*i) <= windowDecision[i]]\n",
    "            sTime = [j - 24*i - windowDecision[i] for j in unTime \n",
    "                     if (j - 24*i) >= windowDecision[i]]\n",
    "            \n",
    "            circadian = [self.M*cos(self.omega*k + self.phi) for k in unTime]\n",
    "            wHom = [(initAl - self.DC)*exp(-k/self.tau) + self.DC for k in wTime]\n",
    "            sHom = [self.y_*(1-exp(-k/self.tau_e)) + wHom[-1]*exp(-k/self.tau_e) \n",
    "                    for k in sTime]\n",
    "            Hom = np.concatenate((wHom,sHom))\n",
    "            \n",
    "            self.levHom.loc[:,i] = Hom\n",
    "            self.levAl.loc[:,i] = circadian + Hom\n",
    "            self.time.loc[:,i] = unTime\n",
    "            initAl = Hom[-1]\n",
    "    \n",
    "    def randSample(self,seed,ppH):\n",
    "        \n",
    "        size_ = floor(max(self.windows)*ppH) + 1\n",
    "        \n",
    "        self.sAl = np.zeros([size_,self.days])\n",
    "        self.sT = np.zeros([size_,self.days])\n",
    "        \n",
    "        for i in range(self.days):\n",
    "            step = floor(self.resolution/(self.windows[i]*ppH))\n",
    "            samples = range(0,self.resolution,step)\n",
    "            spH = floor(self.resolution/self.windows[i])\n",
    "            cruzeArr = [k - floor(spH/4) for k in range(0,floor(spH/2),1)]\n",
    "            cruzeInc = sample(cruzeArr, len(samples))\n",
    "            if cruzeInc[0] < 0:\n",
    "                cruzeInc[0] = 0\n",
    "            if cruzeInc[-1] > 0:\n",
    "                cruzeInc[-1] = 0\n",
    "            samples_inc = np.asarray(cruzeInc) + samples\n",
    "            size_ = samples_inc.shape[0]\n",
    "            \n",
    "            self.sAl[0:size_,i] = self.levAl.loc[samples_inc,i].values\n",
    "            self.sT[0:size_,i] = self.time.loc[samples_inc,i].values\n",
    "            self.ind = size_\n",
    "            "
   ]
  },
  {
   "cell_type": "code",
   "execution_count": 56,
   "metadata": {},
   "outputs": [
    {
     "name": "stdout",
     "output_type": "stream",
     "text": [
      "[[14.15343552 13.29268625]\n",
      " [13.89470452 12.38253738]\n",
      " [13.03207541 11.66736334]\n",
      " [12.23883425 11.1954526 ]\n",
      " [11.7294249  10.71676514]\n",
      " [11.27715329 10.42685543]\n",
      " [10.84324048  9.79833709]\n",
      " [10.6579561   9.6962527 ]\n",
      " [10.41574522  9.47965929]\n",
      " [10.34945584  9.39397971]\n",
      " [10.38160353  9.41401396]\n",
      " [10.41115332  9.61748778]\n",
      " [10.54017515  9.72075926]\n",
      " [10.87836885 10.05240791]\n",
      " [11.17720093 10.2474003 ]\n",
      " [11.42215641 10.53493217]\n",
      " [11.66360581 10.91682148]\n",
      " [11.84240476 11.14625383]\n",
      " [11.99017736 11.25993708]\n",
      " [12.12498999 11.47085465]\n",
      " [12.22745087 11.50868851]\n",
      " [12.23275889 11.52267439]\n",
      " [13.28383471 12.15077927]\n",
      " [14.14134509 13.27263544]\n",
      " [14.32116129 14.24092554]\n",
      " [14.76308449 14.632383  ]\n",
      " [15.02854095 14.80042695]\n",
      " [14.96996537 14.79823681]\n",
      " [14.71130369 14.73497495]\n",
      " [14.63748649 14.5628055 ]\n",
      " [14.19103789 14.13885426]\n",
      " [13.90035702 13.8041604 ]\n",
      " [13.35388411 13.32056955]]\n"
     ]
    }
   ],
   "source": [
    "alertData = simAlert(2)\n",
    "alertData.generate([16,16], 10000)\n",
    "alertData.randSample(15,2)\n",
    "print(alertData.sAl)"
   ]
  },
  {
   "cell_type": "code",
   "execution_count": 57,
   "metadata": {},
   "outputs": [
    {
     "name": "stdout",
     "output_type": "stream",
     "text": [
      "[[ 0.3696 24.0384]\n",
      " [ 0.6168 24.9456]\n",
      " [ 1.488  25.7256]\n",
      " [ 2.3904 26.2944]\n",
      " [ 3.06   26.9424]\n",
      " [ 3.7608 27.3888]\n",
      " [ 4.62   28.6488]\n",
      " [ 5.1072 28.9344]\n",
      " [ 6.1008 29.7936]\n",
      " [ 6.8208 30.9216]\n",
      " [ 7.6992 31.3248]\n",
      " [ 7.9488 32.5608]\n",
      " [ 8.6688 32.9568]\n",
      " [ 9.9    33.9912]\n",
      " [10.788  34.5264]\n",
      " [11.4888 35.2872]\n",
      " [12.2064 36.3336]\n",
      " [12.792  37.0512]\n",
      " [13.3536 37.4664]\n",
      " [14.0136 38.5632]\n",
      " [14.9688 38.9496]\n",
      " [15.3768 39.6288]\n",
      " [16.6728 40.3248]\n",
      " [17.4288 41.0352]\n",
      " [17.64   41.9856]\n",
      " [18.3528 42.66  ]\n",
      " [19.8144 43.1904]\n",
      " [20.3016 44.5368]\n",
      " [21.2304 44.8248]\n",
      " [21.4248 45.3888]\n",
      " [22.4064 46.3896]\n",
      " [22.9632 47.0544]\n",
      " [23.9616 47.9616]]\n"
     ]
    }
   ],
   "source": [
    "print(alertData.sT)"
   ]
  },
  {
   "cell_type": "code",
   "execution_count": 59,
   "metadata": {},
   "outputs": [
    {
     "data": {
      "text/plain": [
       "<matplotlib.collections.PathCollection at 0x7f3d56851f60>"
      ]
     },
     "execution_count": 59,
     "metadata": {},
     "output_type": "execute_result"
    },
    {
     "data": {
      "image/png": "[encoded data removed]",
      "text/plain": [
       "<Figure size 432x288 with 1 Axes>"
      ]
     },
     "metadata": {
      "needs_background": "light"
     },
     "output_type": "display_data"
    }
   ],
   "source": [
    "plt.plot(alertData.time,alertData.levAl)\n",
    "plt.scatter(alertData.sT,alertData.sAl)"
   ]
  }
 ],
 "metadata": {
  "kernelspec": {
   "display_name": "Python 3",
   "language": "python",
   "name": "python3"
  },
  "language_info": {
   "codemirror_mode": {
    "name": "ipython",
    "version": 3
   },
   "file_extension": ".py",
   "mimetype": "text/x-python",
   "name": "python",
   "nbconvert_exporter": "python",
   "pygments_lexer": "ipython3",
   "version": "3.7.1"
  }
 },
 "nbformat": 4,
 "nbformat_minor": 2
}
