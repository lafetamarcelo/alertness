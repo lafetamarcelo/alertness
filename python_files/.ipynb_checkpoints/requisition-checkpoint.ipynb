{
 "cells": [
  {
   "cell_type": "code",
   "execution_count": null,
   "metadata": {},
   "outputs": [],
   "source": [
    "from matchable_observable import simAlert, MOLIwhiteBox\n",
    "from requests import put, get\n",
    "import json\n",
    "\n",
    "windowAwake = [16, 15.5, 14.8, 17]\n",
    "alertData = simAlert(4) #number_days\n",
    "alertData.generate(windowAwake, 100000) #window_decision, resolution\n",
    "samples = alertData.randSample(2, 5)"
   ]
  },
  {
   "cell_type": "code",
   "execution_count": null,
   "metadata": {},
   "outputs": [],
   "source": [
    "samples_data = {'time': json.dumps(samples['time']),\n",
    "                'levAl': json.dumps(samples['levAl']),\n",
    "                'windDecisions': json.dumps(samples['windDecisions'])}"
   ]
  },
  {
   "cell_type": "code",
   "execution_count": null,
   "metadata": {},
   "outputs": [],
   "source": [
    "sampled = {'time': json.loads(samples_data['time']),\n",
    "                'levAl': json.loads(samples_data['levAl']),\n",
    "                'windDecisions': json.loads(samples_data['windDecisions'])}\n",
    "sampled"
   ]
  },
  {
   "cell_type": "code",
   "execution_count": null,
   "metadata": {},
   "outputs": [],
   "source": [
    "put('http://localhost:5000/al_01', data=samples_data).json()"
   ]
  },
  {
   "cell_type": "code",
   "execution_count": null,
   "metadata": {},
   "outputs": [],
   "source": [
    "modelMOLI = MOLIwhiteBox('trivial')\n",
    "modelMOLI.fit(sampled)\n",
    "#modelMOLI"
   ]
  },
  {
   "cell_type": "code",
   "execution_count": null,
   "metadata": {},
   "outputs": [],
   "source": [
    "f = 2.658\n",
    "z = [2, 4, 5, 8, 9]\n",
    "z = np.array(z)\n",
    "z - f"
   ]
  }
 ],
 "metadata": {
  "kernelspec": {
   "display_name": "Python 3",
   "language": "python",
   "name": "python3"
  },
  "language_info": {
   "codemirror_mode": {
    "name": "ipython",
    "version": 3
   },
   "file_extension": ".py",
   "mimetype": "text/x-python",
   "name": "python",
   "nbconvert_exporter": "python",
   "pygments_lexer": "ipython3",
   "version": "3.7.3"
  },
  "varInspector": {
   "cols": {
    "lenName": 16,
    "lenType": 16,
    "lenVar": 40
   },
   "kernels_config": {
    "python": {
     "delete_cmd_postfix": "",
     "delete_cmd_prefix": "del ",
     "library": "var_list.py",
     "varRefreshCmd": "print(var_dic_list())"
    },
    "r": {
     "delete_cmd_postfix": ") ",
     "delete_cmd_prefix": "rm(",
     "library": "var_list.r",
     "varRefreshCmd": "cat(var_dic_list()) "
    }
   },
   "types_to_exclude": [
    "module",
    "function",
    "builtin_function_or_method",
    "instance",
    "_Feature"
   ],
   "window_display": false
  }
 },
 "nbformat": 4,
 "nbformat_minor": 2
}
