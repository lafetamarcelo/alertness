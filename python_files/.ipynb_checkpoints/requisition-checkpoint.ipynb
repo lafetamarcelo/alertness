{
 "cells": [
  {
   "cell_type": "code",
   "execution_count": null,
   "metadata": {},
   "outputs": [],
   "source": [
    "from matchable_observable import simAlert, MOLIwhiteBox, forceEstimate\n",
    "from requests import put, get\n",
    "import json\n",
    "\n",
    "windowAwake = [16, 15.5, 14.8, 17]\n",
    "alertData = simAlert(4) #number_days\n",
    "alertData.generate(windowAwake, 100000) #window_decision, resolution\n",
    "samples = alertData.randSample(10, 5)"
   ]
  },
  {
   "cell_type": "code",
   "execution_count": null,
   "metadata": {},
   "outputs": [],
   "source": [
    "samples_data = {'time': json.dumps(samples['time']),\n",
    "                'levAl': json.dumps(samples['levAl']),\n",
    "                'windDecisions': json.dumps(samples['windDecisions']),\n",
    "                'initial': json.dumps(samples['initial']),\n",
    "                'final': json.dumps(samples['final'])}\n",
    "samples['windDecisions']"
   ]
  },
  {
   "cell_type": "code",
   "execution_count": null,
   "metadata": {},
   "outputs": [],
   "source": [
    "sampled = {'time': json.loads(samples_data['time']),\n",
    "           'levAl': json.loads(samples_data['levAl']),\n",
    "           'windDecisions': json.loads(samples_data['windDecisions']),\n",
    "           'initial': json.loads(samples_data['initial']),\n",
    "           'final': json.loads(samples_data['final'])}\n",
    "sampled['initial']"
   ]
  },
  {
   "cell_type": "markdown",
   "metadata": {},
   "source": [
    "# Test the MOLI algorithm on Cloud"
   ]
  },
  {
   "cell_type": "code",
   "execution_count": null,
   "metadata": {},
   "outputs": [],
   "source": [
    "put('http://lafetamarcelo.pythonanywhere.com/MOLI/al01', data=samples_data).json()"
   ]
  },
  {
   "cell_type": "code",
   "execution_count": null,
   "metadata": {},
   "outputs": [],
   "source": [
    "windowSim = [16, 15.5, 16, 13, 16.1]\n",
    "alertVal = simAlert(5) #number_days\n",
    "alertVal.generate(windowSim, 100000) #window_decision, resolution\n",
    "\n",
    "initial, final = [], []\n",
    "for i in range(len(windowSim)):\n",
    "    initial.append(24.0*i)\n",
    "    final.append(24*i + windowSim[i])\n",
    "__init = alertVal.levAl.loc[0,0]\n",
    "simdata = {'init': json.dumps(initial), \n",
    "           'final': json.dumps(final),\n",
    "           'lev': __init}\n",
    "len(json.loads(simdata['final']))\n",
    "#simdata"
   ]
  },
  {
   "cell_type": "code",
   "execution_count": null,
   "metadata": {
    "scrolled": false
   },
   "outputs": [],
   "source": [
    "data = get('http://lafetamarcelo.pythonanywhere.com/MOLI/al01', params=simdata).json()"
   ]
  },
  {
   "cell_type": "code",
   "execution_count": null,
   "metadata": {},
   "outputs": [],
   "source": [
    "data['levAl'][2]"
   ]
  },
  {
   "cell_type": "markdown",
   "metadata": {},
   "source": [
    "# Testing the local annealing algorithm"
   ]
  },
  {
   "cell_type": "code",
   "execution_count": null,
   "metadata": {},
   "outputs": [],
   "source": [
    "model = forceEstimate('Annealing') #'Annealing', 'None'"
   ]
  },
  {
   "cell_type": "code",
   "execution_count": null,
   "metadata": {
    "scrolled": true
   },
   "outputs": [],
   "source": [
    "sampled['levAl']['0']\n",
    "%matplotlib notebook"
   ]
  },
  {
   "cell_type": "code",
   "execution_count": null,
   "metadata": {},
   "outputs": [],
   "source": [
    "model.fit(sampled)"
   ]
  },
  {
   "cell_type": "code",
   "execution_count": null,
   "metadata": {},
   "outputs": [],
   "source": [
    "model.tau"
   ]
  }
 ],
 "metadata": {
  "kernelspec": {
   "display_name": "Python 3",
   "language": "python",
   "name": "python3"
  },
  "language_info": {
   "codemirror_mode": {
    "name": "ipython",
    "version": 3
   },
   "file_extension": ".py",
   "mimetype": "text/x-python",
   "name": "python",
   "nbconvert_exporter": "python",
   "pygments_lexer": "ipython3",
   "version": "3.7.3"
  },
  "varInspector": {
   "cols": {
    "lenName": 16,
    "lenType": 16,
    "lenVar": 40
   },
   "kernels_config": {
    "python": {
     "delete_cmd_postfix": "",
     "delete_cmd_prefix": "del ",
     "library": "var_list.py",
     "varRefreshCmd": "print(var_dic_list())"
    },
    "r": {
     "delete_cmd_postfix": ") ",
     "delete_cmd_prefix": "rm(",
     "library": "var_list.r",
     "varRefreshCmd": "cat(var_dic_list()) "
    }
   },
   "types_to_exclude": [
    "module",
    "function",
    "builtin_function_or_method",
    "instance",
    "_Feature"
   ],
   "window_display": false
  }
 },
 "nbformat": 4,
 "nbformat_minor": 2
}
