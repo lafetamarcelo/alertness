{
 "cells": [
  {
   "cell_type": "code",
   "execution_count": 1,
   "metadata": {},
   "outputs": [],
   "source": [
    "import numpy as np\n",
    "import pandas as pd\n",
    "import matplotlib.pyplot as plt\n",
    "\n",
    "import random as rand_\n",
    "from math import pi, cos, exp, floor\n",
    "from cmath import sqrt\n",
    "from scipy.signal import lti, impulse, lsim\n",
    "from jupyterthemes import jtplot\n",
    "\n",
    "jtplot.style()"
   ]
  },
  {
   "cell_type": "code",
   "execution_count": 2,
   "metadata": {},
   "outputs": [],
   "source": [
    "class MOLIwhiteBox:\n",
    "    def __init__(self,method):\n",
    "        self.C = np.array([[0., 0., 0., 1.]])\n",
    "        #self.A = np.array([[0.,0.,0.,0.],\n",
    "        #                   [1.,0.,0.,0.],\n",
    "        #                   [0.,1.,0.,0.],\n",
    "        #                   [0.,0.,1.,0.]])\n",
    "        if method is None:\n",
    "            method = 'trivial'\n",
    "        self.filter = method\n",
    "        \n",
    "    def describe(self):\n",
    "        print('This is a MOLI white Box alertness model')\n",
    "        \n",
    "    def structure(self):\n",
    "        if self.filter == 'trivial':\n",
    "            zeta = 0.01\n",
    "            omega = pi/12.0\n",
    "            _p1 = -zeta*omega + omega*sqrt(zeta**2-1)\n",
    "            _p2 = -zeta*omega - omega*sqrt(zeta**2-1)\n",
    "            syscpoly = np.poly((-1.0*0.0353,_p1,_p2))\n",
    "            sysc = np.concatenate((np.zeros([1]),np.flip(-syscpoly[1:])),0)\n",
    "            \n",
    "            A_ = np.concatenate((np.zeros([1,3]),np.identity(3)),0)\n",
    "            A_ = np.concatenate((A_,sysc.reshape([4,1])),1)\n",
    "            \n",
    "            alphacand = np.poly(np.linalg.eig(A_)[0])\n",
    "            A0 = np.concatenate((np.zeros([1,3]),np.identity(3)),0)\n",
    "            A0 = np.concatenate((A0,-np.flip(alphacand[1:]).reshape([4,1])),1)\n",
    "            self.A = A0\n",
    "        \n",
    "    def fit(self,timeSamp,y):\n",
    "        A_, C_, I_ = np.transpose(self.A), np.transpose(self.C), np.identity(4) \n",
    "        sFilt = lti(A_,C_,I_,np.zeros([4,1]))\n",
    "        self.model = sFilt\n",
    "        _B = np.zeros([4,y.size])\n",
    "        regres = np.array([])\n",
    "        _y = []\n",
    "        \n",
    "        for i in range(y.size):\n",
    "            sigAl, _time = np.asarray(y[i]), np.asarray(timeSamp[i])\n",
    "            \n",
    "            time_sim = _time - _time[0]\n",
    "            impT, impResp = impulse(sFilt, 0, time_sim, N = 10000)\n",
    "            #impT, impResp = sFilt.impulse(T = time_sim)\n",
    "            impT = impT + _time[0]\n",
    "            outT, outResp, x2 = lsim(sFilt, sigAl, time_sim)\n",
    "            #outT, outResp, x2 = sFilt.output(U = sigAl, T = time_sim)\n",
    "            outT = outT + _time[0]\n",
    "            \n",
    "            plt.scatter(time_sim,sigAl)\n",
    "            plt.plot(time_sim,sigAl)\n",
    "            comp = np.zeros([impT.size,4*y.size])\n",
    "            comp[:,4*i:4*(i+1)] = impResp\n",
    "            aux = np.concatenate((outResp,comp),1)\n",
    "            \n",
    "            if i == 0:\n",
    "                regres = aux\n",
    "                _y = np.asarray(y[i])\n",
    "            else:\n",
    "                regres = np.concatenate((regres,aux), 0)\n",
    "                _y = np.concatenate((_y,np.asarray(y[i])), 0)\n",
    "                \n",
    "        plt.show()\n",
    "        theta = np.linalg.lstsq(regres, _y, rcond=-1)[0]\n",
    "        #phiT = np.linalg.pinv(regres)\n",
    "        #theta = np.matmul(phiT, _y)\n",
    "        \n",
    "        for i in range(y.size):\n",
    "            init = 4*(i+1)\n",
    "            final = 4*(i+1) + 4\n",
    "            _B[:,i] = theta[init:final]\n",
    "            \n",
    "        self.L = theta[:4]\n",
    "        self.B = _B\n",
    "        \n",
    "    def parameters(self, timeSamp):\n",
    "        Ao = self.A + np.matmul(self.L.reshape([4,1]),self.C)\n",
    "        self.w = (-Ao[2,3])**0.5\n",
    "        self.tau = (self.w**2)/(-Ao[1,3])\n",
    "        "
   ]
  },
  {
   "cell_type": "code",
   "execution_count": null,
   "metadata": {},
   "outputs": [],
   "source": []
  },
  {
   "cell_type": "code",
   "execution_count": null,
   "metadata": {},
   "outputs": [],
   "source": [
    "zeta = 0.01\n",
    "omega = pi/12.0\n",
    "_p1 = -zeta*omega + omega*sqrt(zeta**2-1)\n",
    "_p2 = -zeta*omega - omega*sqrt(zeta**2-1)\n",
    "syscpoly = np.poly((-1.0*0.0353,_p1,_p2))\n",
    "print(-syscpoly[1:],np.zeros([1]))"
   ]
  },
  {
   "cell_type": "code",
   "execution_count": null,
   "metadata": {},
   "outputs": [],
   "source": [
    "A = np.concatenate((np.zeros([1,3]),np.identity(3)),0)\n",
    "              #[1.,0.,0.,-syscpoly[3]],\n",
    "              #[0.,1.,0.,-syscpoly[2]],\n",
    "              #[0.,0.,1.,-syscpoly[1]]])\n",
    "sysc = np.concatenate((np.zeros([1]),np.flip(-syscpoly[1:])),0)\n",
    "A = np.concatenate((A,sysc.reshape([4,1])),1)\n",
    "A"
   ]
  },
  {
   "cell_type": "code",
   "execution_count": null,
   "metadata": {},
   "outputs": [],
   "source": [
    "alphacand = np.poly(np.linalg.eig(A)[0])\n",
    "alphacand"
   ]
  },
  {
   "cell_type": "code",
   "execution_count": null,
   "metadata": {},
   "outputs": [],
   "source": [
    "A0 = np.concatenate((np.zeros([1,3]),np.identity(3)),0)\n",
    "#-np.flip(alphacand[1:]).reshape([4,1])\n",
    "A0 = np.concatenate((A0,-np.flip(alphacand[1:]).reshape([4,1])),1)\n",
    "A0"
   ]
  },
  {
   "cell_type": "code",
   "execution_count": null,
   "metadata": {},
   "outputs": [],
   "source": [
    "error = alphacand[1:] - np.concatenate((syscpoly[1:],np.zeros([1])),0)\n",
    "error"
   ]
  },
  {
   "cell_type": "code",
   "execution_count": 3,
   "metadata": {},
   "outputs": [],
   "source": [
    "class simAlert:\n",
    "    def __init__(self,numDays):\n",
    "        self.days = numDays\n",
    "        self.time = pd.DataFrame()\n",
    "        self.levAl = pd.DataFrame()\n",
    "        self.levHom = pd.DataFrame()\n",
    "        self.omega = pi/12.0\n",
    "        self.tau = 1/0.0353\n",
    "        self.M = 2.52\n",
    "        self.phi = -16.835*pi/12.0\n",
    "        self.DC = 2.4\n",
    "        self.y_ = 14.3\n",
    "        self.tau_e = 1/0.381\n",
    "        self.smpAl = pd.DataFrame(columns = {'time','levAl'} )\n",
    "    \n",
    "    def generate(self,windowDecision,resolution):\n",
    "        initAl = 14.3\n",
    "        self.resolution = resolution\n",
    "        self.windows = windowDecision\n",
    "        for i in range(self.days):\n",
    "            unTime = [24*i + 24*j/self.resolution for j in range(resolution)]\n",
    "            wTime = [j - 24*i for j in unTime if (j - 24*i) <= windowDecision[i]]\n",
    "            sTime = [j - 24*i - windowDecision[i] for j in unTime \n",
    "                     if (j - 24*i) >= windowDecision[i]]\n",
    "            \n",
    "            circadian = [self.M*cos(self.omega*k + self.phi) for k in unTime]\n",
    "            wHom = [(initAl - self.DC)*exp(-k/self.tau) + self.DC for k in wTime]\n",
    "            sHom = [self.y_*(1-exp(-k/self.tau_e)) + wHom[-1]*exp(-k/self.tau_e) \n",
    "                    for k in sTime]\n",
    "            Hom = np.concatenate((wHom,sHom))\n",
    "            print(Hom.shape)\n",
    "            self.levHom.loc[:,i] = Hom[:resolution]\n",
    "            self.levAl.loc[:,i] = circadian[:resolution] + Hom[:resolution]\n",
    "            self.time.loc[:,i] = unTime[:resolution]\n",
    "            initAl = Hom[-1]\n",
    "    \n",
    "    def randSample(self,ppH,seed):\n",
    "        \n",
    "        size_ = floor(max(self.windows)*ppH)\n",
    "        time, levAl, day = [], [], []\n",
    "        \n",
    "        for i in range(self.days):\n",
    "            step = floor(self.resolution/(24*ppH))\n",
    "            final_ = self.windows[i]*step*ppH\n",
    "            samples = range(0,final_,step)\n",
    "            spH = floor(self.resolution/24.0)\n",
    "            cruzeArr = [k - floor(spH/4) for k in range(0,floor(spH/2),1)]\n",
    "            cruzeInc = rand_.sample(cruzeArr, len(samples))\n",
    "            if cruzeInc[0] < 0:\n",
    "                cruzeInc[0] = 0\n",
    "            if cruzeInc[-1] > 0:\n",
    "                cruzeInc[-1] = 0\n",
    "            samples_inc = np.asarray(cruzeInc) + samples\n",
    "            \n",
    "            time.append(self.time.loc[samples_inc,i].values)\n",
    "            levAl.append(self.levAl.loc[samples_inc,i].values)\n",
    "            \n",
    "        self.smpAl.time = time\n",
    "        self.smpAl.levAl = levAl           "
   ]
  },
  {
   "cell_type": "code",
   "execution_count": 4,
   "metadata": {},
   "outputs": [
    {
     "name": "stdout",
     "output_type": "stream",
     "text": [
      "(10000,)\n"
     ]
    }
   ],
   "source": [
    "alertData = simAlert(1) #number_days\n",
    "alertData.generate([16], 10000) #window_decision, resolution\n",
    "alertData.randSample(5,105) #points_per_hour (ppH), seed (random)\n",
    "#print(alertData.smpAl.time[0].size, alertData.smpAl.time[1].size)"
   ]
  },
  {
   "cell_type": "code",
   "execution_count": null,
   "metadata": {},
   "outputs": [],
   "source": [
    "%matplotlib notebook\n",
    "plt.plot(alertData.time,alertData.levAl)\n",
    "for i in range(alertData.smpAl.time.size):\n",
    "    plt.scatter(alertData.smpAl.time[i],alertData.smpAl.levAl[i])"
   ]
  },
  {
   "cell_type": "code",
   "execution_count": 5,
   "metadata": {},
   "outputs": [],
   "source": [
    "modelMOLI = MOLIwhiteBox('trivial')"
   ]
  },
  {
   "cell_type": "code",
   "execution_count": 6,
   "metadata": {},
   "outputs": [],
   "source": [
    "modelMOLI.structure()"
   ]
  },
  {
   "cell_type": "code",
   "execution_count": 7,
   "metadata": {},
   "outputs": [
    {
     "data": {
      "text/plain": [
       "array([-0.00261799+0.2617863j, -0.00261799-0.2617863j,\n",
       "       -0.0353    +0.j       ,  0.        +0.j       ])"
      ]
     },
     "execution_count": 7,
     "metadata": {},
     "output_type": "execute_result"
    }
   ],
   "source": [
    "np.linalg.eig(modelMOLI.A)[0]"
   ]
  },
  {
   "cell_type": "code",
   "execution_count": 9,
   "metadata": {},
   "outputs": [],
   "source": [
    "setTime = alertData.smpAl.time\n",
    "setAl = alertData.smpAl.levAl"
   ]
  },
  {
   "cell_type": "code",
   "execution_count": 10,
   "metadata": {},
   "outputs": [
    {
     "data": {
      "text/plain": [
       "(array([ 0.1152,  0.24  ,  0.492 ,  0.5472,  0.8328,  0.9792,  0.9864,\n",
       "         1.4832,  1.5864,  1.62  ,  1.9656,  2.1504,  2.3232,  2.412 ,\n",
       "         2.556 ,  2.7744,  3.384 ,  3.4344,  3.5904,  3.732 ,  3.8136,\n",
       "         4.2768,  4.392 ,  4.4688,  4.8192,  4.9008,  5.2272,  5.364 ,\n",
       "         5.7408,  5.892 ,  5.988 ,  6.0096,  6.1368,  6.5016,  6.8424,\n",
       "         6.8448,  7.1832,  7.4304,  7.5984,  7.716 ,  7.8096,  8.124 ,\n",
       "         8.28  ,  8.6016,  8.9352,  8.9544,  8.9784,  9.2064,  9.5424,\n",
       "         9.7896, 10.008 , 10.2672, 10.3848, 10.5888, 10.7568, 10.776 ,\n",
       "        11.1096, 11.2104, 11.6112, 11.8632, 11.9472, 11.9976, 12.1056,\n",
       "        12.6096, 12.672 , 13.0824, 13.1784, 13.2504, 13.6536, 13.9008,\n",
       "        14.0832, 14.124 , 14.2848, 14.6112, 14.6856, 15.1632, 15.1728,\n",
       "        15.264 , 15.6168, 15.6192]),\n",
       " array([1, 1, 1, 1, 1, 1, 1, 1, 1, 1, 1, 1, 1, 1, 1, 1, 1, 1, 1, 1, 1, 1,\n",
       "        1, 1, 1, 1, 1, 1, 1, 1, 1, 1, 1, 1, 1, 1, 1, 1, 1, 1, 1, 1, 1, 1,\n",
       "        1, 1, 1, 1, 1, 1, 1, 1, 1, 1, 1, 1, 1, 1, 1, 1, 1, 1, 1, 1, 1, 1,\n",
       "        1, 1, 1, 1, 1, 1, 1, 1, 1, 1, 1, 1, 1, 1], dtype=int64))"
      ]
     },
     "execution_count": 10,
     "metadata": {},
     "output_type": "execute_result"
    }
   ],
   "source": [
    "k = np.array([])\n",
    "for i in range(setTime.size):\n",
    "    if i == 0:\n",
    "        k = np.asarray(setTime[i])\n",
    "    else:\n",
    "        k = np.concatenate((k,np.asarray(setTime[i])),0)\n",
    "#print(k)\n",
    "test = np.array(k)\n",
    "np.unique(test, return_counts = True)"
   ]
  },
  {
   "cell_type": "code",
   "execution_count": 11,
   "metadata": {},
   "outputs": [
    {
     "ename": "ValueError",
     "evalue": "U must have the same number of rows as elements in T.",
     "output_type": "error",
     "traceback": [
      "\u001b[1;31m---------------------------------------------------------------------------\u001b[0m",
      "\u001b[1;31mValueError\u001b[0m                                Traceback (most recent call last)",
      "\u001b[1;32m<ipython-input-11-47fe8839542d>\u001b[0m in \u001b[0;36m<module>\u001b[1;34m\u001b[0m\n\u001b[1;32m----> 1\u001b[1;33m \u001b[0mmodelMOLI\u001b[0m\u001b[1;33m.\u001b[0m\u001b[0mfit\u001b[0m\u001b[1;33m(\u001b[0m\u001b[0msetTime\u001b[0m\u001b[1;33m,\u001b[0m\u001b[0msetAl\u001b[0m\u001b[1;33m)\u001b[0m\u001b[1;33m\u001b[0m\u001b[1;33m\u001b[0m\u001b[0m\n\u001b[0m",
      "\u001b[1;32m<ipython-input-2-dc79b0ba1372>\u001b[0m in \u001b[0;36mfit\u001b[1;34m(self, timeSamp, y)\u001b[0m\n\u001b[0;32m     42\u001b[0m \u001b[1;33m\u001b[0m\u001b[0m\n\u001b[0;32m     43\u001b[0m             \u001b[0mtime_sim\u001b[0m \u001b[1;33m=\u001b[0m \u001b[0m_time\u001b[0m \u001b[1;33m-\u001b[0m \u001b[0m_time\u001b[0m\u001b[1;33m[\u001b[0m\u001b[1;36m0\u001b[0m\u001b[1;33m]\u001b[0m\u001b[1;33m\u001b[0m\u001b[1;33m\u001b[0m\u001b[0m\n\u001b[1;32m---> 44\u001b[1;33m             \u001b[0mimpT\u001b[0m\u001b[1;33m,\u001b[0m \u001b[0mimpResp\u001b[0m \u001b[1;33m=\u001b[0m \u001b[0mimpulse\u001b[0m\u001b[1;33m(\u001b[0m\u001b[0msFilt\u001b[0m\u001b[1;33m,\u001b[0m \u001b[1;36m0\u001b[0m\u001b[1;33m,\u001b[0m \u001b[0mtime_sim\u001b[0m\u001b[1;33m,\u001b[0m \u001b[0mN\u001b[0m \u001b[1;33m=\u001b[0m \u001b[1;36m10000\u001b[0m\u001b[1;33m)\u001b[0m\u001b[1;33m\u001b[0m\u001b[1;33m\u001b[0m\u001b[0m\n\u001b[0m\u001b[0;32m     45\u001b[0m             \u001b[1;31m#impT, impResp = sFilt.impulse(T = time_sim)\u001b[0m\u001b[1;33m\u001b[0m\u001b[1;33m\u001b[0m\u001b[1;33m\u001b[0m\u001b[0m\n\u001b[0;32m     46\u001b[0m             \u001b[0mimpT\u001b[0m \u001b[1;33m=\u001b[0m \u001b[0mimpT\u001b[0m \u001b[1;33m+\u001b[0m \u001b[0m_time\u001b[0m\u001b[1;33m[\u001b[0m\u001b[1;36m0\u001b[0m\u001b[1;33m]\u001b[0m\u001b[1;33m\u001b[0m\u001b[1;33m\u001b[0m\u001b[0m\n",
      "\u001b[1;32m~\\Anaconda3\\lib\\site-packages\\scipy\\signal\\ltisys.py\u001b[0m in \u001b[0;36mimpulse\u001b[1;34m(system, X0, T, N)\u001b[0m\n\u001b[0;32m   2120\u001b[0m         \u001b[0mT\u001b[0m \u001b[1;33m=\u001b[0m \u001b[0masarray\u001b[0m\u001b[1;33m(\u001b[0m\u001b[0mT\u001b[0m\u001b[1;33m)\u001b[0m\u001b[1;33m\u001b[0m\u001b[1;33m\u001b[0m\u001b[0m\n\u001b[0;32m   2121\u001b[0m \u001b[1;33m\u001b[0m\u001b[0m\n\u001b[1;32m-> 2122\u001b[1;33m     \u001b[0m_\u001b[0m\u001b[1;33m,\u001b[0m \u001b[0mh\u001b[0m\u001b[1;33m,\u001b[0m \u001b[0m_\u001b[0m \u001b[1;33m=\u001b[0m \u001b[0mlsim\u001b[0m\u001b[1;33m(\u001b[0m\u001b[0msys\u001b[0m\u001b[1;33m,\u001b[0m \u001b[1;36m0.\u001b[0m\u001b[1;33m,\u001b[0m \u001b[0mT\u001b[0m\u001b[1;33m,\u001b[0m \u001b[0mX\u001b[0m\u001b[1;33m,\u001b[0m \u001b[0minterp\u001b[0m\u001b[1;33m=\u001b[0m\u001b[1;32mFalse\u001b[0m\u001b[1;33m)\u001b[0m\u001b[1;33m\u001b[0m\u001b[1;33m\u001b[0m\u001b[0m\n\u001b[0m\u001b[0;32m   2123\u001b[0m     \u001b[1;32mreturn\u001b[0m \u001b[0mT\u001b[0m\u001b[1;33m,\u001b[0m \u001b[0mh\u001b[0m\u001b[1;33m\u001b[0m\u001b[1;33m\u001b[0m\u001b[0m\n\u001b[0;32m   2124\u001b[0m \u001b[1;33m\u001b[0m\u001b[0m\n",
      "\u001b[1;32m~\\Anaconda3\\lib\\site-packages\\scipy\\signal\\ltisys.py\u001b[0m in \u001b[0;36mlsim\u001b[1;34m(system, U, T, X0, interp)\u001b[0m\n\u001b[0;32m   1966\u001b[0m         warnings.warn(\"Non-uniform timesteps are deprecated. Results may be \"\n\u001b[0;32m   1967\u001b[0m                       \"slow and/or inaccurate.\", DeprecationWarning)\n\u001b[1;32m-> 1968\u001b[1;33m         \u001b[1;32mreturn\u001b[0m \u001b[0mlsim2\u001b[0m\u001b[1;33m(\u001b[0m\u001b[0msystem\u001b[0m\u001b[1;33m,\u001b[0m \u001b[0mU\u001b[0m\u001b[1;33m,\u001b[0m \u001b[0mT\u001b[0m\u001b[1;33m,\u001b[0m \u001b[0mX0\u001b[0m\u001b[1;33m)\u001b[0m\u001b[1;33m\u001b[0m\u001b[1;33m\u001b[0m\u001b[0m\n\u001b[0m\u001b[0;32m   1969\u001b[0m \u001b[1;33m\u001b[0m\u001b[0m\n\u001b[0;32m   1970\u001b[0m     \u001b[1;32mif\u001b[0m \u001b[0mno_input\u001b[0m\u001b[1;33m:\u001b[0m\u001b[1;33m\u001b[0m\u001b[1;33m\u001b[0m\u001b[0m\n",
      "\u001b[1;32m~\\Anaconda3\\lib\\site-packages\\scipy\\signal\\ltisys.py\u001b[0m in \u001b[0;36mlsim2\u001b[1;34m(system, U, T, X0, **kwargs)\u001b[0m\n\u001b[0;32m   1827\u001b[0m         \u001b[0msU\u001b[0m \u001b[1;33m=\u001b[0m \u001b[0mU\u001b[0m\u001b[1;33m.\u001b[0m\u001b[0mshape\u001b[0m\u001b[1;33m\u001b[0m\u001b[1;33m\u001b[0m\u001b[0m\n\u001b[0;32m   1828\u001b[0m         \u001b[1;32mif\u001b[0m \u001b[0msU\u001b[0m\u001b[1;33m[\u001b[0m\u001b[1;36m0\u001b[0m\u001b[1;33m]\u001b[0m \u001b[1;33m!=\u001b[0m \u001b[0mlen\u001b[0m\u001b[1;33m(\u001b[0m\u001b[0mT\u001b[0m\u001b[1;33m)\u001b[0m\u001b[1;33m:\u001b[0m\u001b[1;33m\u001b[0m\u001b[1;33m\u001b[0m\u001b[0m\n\u001b[1;32m-> 1829\u001b[1;33m             raise ValueError(\"U must have the same number of rows \"\n\u001b[0m\u001b[0;32m   1830\u001b[0m                              \"as elements in T.\")\n\u001b[0;32m   1831\u001b[0m \u001b[1;33m\u001b[0m\u001b[0m\n",
      "\u001b[1;31mValueError\u001b[0m: U must have the same number of rows as elements in T."
     ]
    }
   ],
   "source": [
    "modelMOLI.fit(setTime,setAl)"
   ]
  },
  {
   "cell_type": "code",
   "execution_count": null,
   "metadata": {},
   "outputs": [],
   "source": [
    "modelMOLI.L"
   ]
  },
  {
   "cell_type": "code",
   "execution_count": null,
   "metadata": {},
   "outputs": [],
   "source": [
    "modelMOLI.fit(setTime,setAl)"
   ]
  },
  {
   "cell_type": "code",
   "execution_count": null,
   "metadata": {},
   "outputs": [],
   "source": [
    "modelMOLI.B"
   ]
  },
  {
   "cell_type": "code",
   "execution_count": null,
   "metadata": {},
   "outputs": [],
   "source": [
    "modelMOLI.parameters(setTime)"
   ]
  },
  {
   "cell_type": "code",
   "execution_count": null,
   "metadata": {},
   "outputs": [],
   "source": [
    "modelMOLI.tau"
   ]
  }
 ],
 "metadata": {
  "kernelspec": {
   "display_name": "Python 3",
   "language": "python",
   "name": "python3"
  },
  "language_info": {
   "codemirror_mode": {
    "name": "ipython",
    "version": 3
   },
   "file_extension": ".py",
   "mimetype": "text/x-python",
   "name": "python",
   "nbconvert_exporter": "python",
   "pygments_lexer": "ipython3",
   "version": "3.7.1"
  },
  "varInspector": {
   "cols": {
    "lenName": 16,
    "lenType": 16,
    "lenVar": 40
   },
   "kernels_config": {
    "python": {
     "delete_cmd_postfix": "",
     "delete_cmd_prefix": "del ",
     "library": "var_list.py",
     "varRefreshCmd": "print(var_dic_list())"
    },
    "r": {
     "delete_cmd_postfix": ") ",
     "delete_cmd_prefix": "rm(",
     "library": "var_list.r",
     "varRefreshCmd": "cat(var_dic_list()) "
    }
   },
   "position": {
    "height": "697.85px",
    "left": "231px",
    "right": "719.333px",
    "top": "393px",
    "width": "479px"
   },
   "types_to_exclude": [
    "module",
    "function",
    "builtin_function_or_method",
    "instance",
    "_Feature"
   ],
   "window_display": false
  }
 },
 "nbformat": 4,
 "nbformat_minor": 2
}
